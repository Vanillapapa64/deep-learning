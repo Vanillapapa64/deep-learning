{
  "cells": [
    {
      "cell_type": "markdown",
      "metadata": {
        "id": "view-in-github",
        "colab_type": "text"
      },
      "source": [
        "<a href=\"https://colab.research.google.com/github/Vanillapapa64/deep-learning/blob/main/Untitled1.ipynb\" target=\"_parent\"><img src=\"https://colab.research.google.com/assets/colab-badge.svg\" alt=\"Open In Colab\"/></a>"
      ]
    },
    {
      "cell_type": "code",
      "execution_count": null,
      "metadata": {
        "id": "Agcxahl6d7JU"
      },
      "outputs": [],
      "source": [
        "import tensorflow as tf\n",
        "from tensorflow import keras\n",
        "from tensorflow.keras.datasets import cifar10\n",
        "from tensorflow.keras import layers"
      ]
    },
    {
      "cell_type": "code",
      "execution_count": null,
      "metadata": {
        "id": "z5Djku4feWoc"
      },
      "outputs": [],
      "source": [
        "(x_train,y_train),(x_test,y_test)=cifar10.load_data()"
      ]
    },
    {
      "cell_type": "code",
      "execution_count": null,
      "metadata": {
        "colab": {
          "base_uri": "https://localhost:8080/"
        },
        "id": "ZsNBKF-kei-B",
        "outputId": "58884780-47a3-4bc9-ccd6-2e5947a4e170"
      },
      "outputs": [
        {
          "data": {
            "text/plain": [
              "array([[6],\n",
              "       [9],\n",
              "       [9],\n",
              "       ...,\n",
              "       [9],\n",
              "       [1],\n",
              "       [1]], dtype=uint8)"
            ]
          },
          "execution_count": 18,
          "metadata": {},
          "output_type": "execute_result"
        }
      ],
      "source": [
        "x_train=x_train/255\n",
        "x_test=x_test/255\n",
        "y_train"
      ]
    },
    {
      "cell_type": "code",
      "execution_count": null,
      "metadata": {
        "id": "MNVcXN4xfM-d"
      },
      "outputs": [],
      "source": [
        "def convo():\n",
        "  input=keras.Input(shape=(32,32,3))\n",
        "  x=layers.Conv2D(32,3)(input)\n",
        "  x=layers.BatchNormalization()(x)\n",
        "  x=keras.activations.relu(x)\n",
        "  x=layers.MaxPooling2D()(x)\n",
        "  x=layers.Conv2D(64,5,padding='same')(x)\n",
        "  x=layers.BatchNormalization()(x)\n",
        "  x=keras.activations.relu(x)\n",
        "  x=layers.Conv2D(128,3)(x)\n",
        "  x=layers.BatchNormalization()(x)\n",
        "  x=keras.activations.relu(x)\n",
        "  x=layers.Flatten()(x)\n",
        "  x=layers.Dense(64,activation='relu')(x)\n",
        "  outputs=layers.Dense(10)(x)\n",
        "  model=keras.Model(inputs=input,outputs=outputs)\n",
        "  return model\n",
        "model=convo()"
      ]
    },
    {
      "cell_type": "code",
      "execution_count": null,
      "metadata": {
        "id": "NehTg8PQ7Xqe"
      },
      "outputs": [],
      "source": [
        "\n",
        "model.compile(\n",
        "  loss=keras.losses.SparseCategoricalCrossentropy(from_logits=True),\n",
        "  optimizer=keras.optimizers.Adam(learning_rate=7e-4),\n",
        "  metrics=['accuracy']\n",
        ")"
      ]
    },
    {
      "cell_type": "code",
      "execution_count": null,
      "metadata": {
        "colab": {
          "background_save": true,
          "base_uri": "https://localhost:8080/"
        },
        "id": "ZtYuWYw9BpFD",
        "outputId": "c5800f30-8fe2-4652-c71b-835456460bf6"
      },
      "outputs": [
        {
          "name": "stdout",
          "output_type": "stream",
          "text": [
            "Epoch 1/20\n",
            "782/782 - 245s - loss: 2.3029 - accuracy: 0.0977 - 245s/epoch - 313ms/step\n",
            "Epoch 2/20\n",
            "782/782 - 240s - loss: 2.3027 - accuracy: 0.0973 - 240s/epoch - 307ms/step\n",
            "Epoch 3/20\n",
            "782/782 - 242s - loss: 2.3027 - accuracy: 0.0978 - 242s/epoch - 310ms/step\n",
            "Epoch 4/20\n",
            "782/782 - 240s - loss: 2.3027 - accuracy: 0.0977 - 240s/epoch - 306ms/step\n",
            "Epoch 5/20\n",
            "782/782 - 232s - loss: 2.3027 - accuracy: 0.0970 - 232s/epoch - 296ms/step\n",
            "Epoch 6/20\n",
            "782/782 - 229s - loss: 2.3027 - accuracy: 0.0967 - 229s/epoch - 292ms/step\n",
            "Epoch 7/20\n",
            "782/782 - 232s - loss: 2.3027 - accuracy: 0.0987 - 232s/epoch - 296ms/step\n",
            "Epoch 8/20\n",
            "782/782 - 237s - loss: 2.3027 - accuracy: 0.0978 - 237s/epoch - 303ms/step\n",
            "Epoch 9/20\n",
            "782/782 - 244s - loss: 2.3027 - accuracy: 0.0984 - 244s/epoch - 312ms/step\n",
            "Epoch 10/20\n",
            "782/782 - 243s - loss: 2.3027 - accuracy: 0.0973 - 243s/epoch - 310ms/step\n",
            "Epoch 11/20\n",
            "782/782 - 239s - loss: 2.3027 - accuracy: 0.0976 - 239s/epoch - 306ms/step\n",
            "Epoch 12/20\n",
            "782/782 - 250s - loss: 2.3027 - accuracy: 0.0983 - 250s/epoch - 319ms/step\n",
            "Epoch 13/20\n",
            "782/782 - 238s - loss: 2.3027 - accuracy: 0.0958 - 238s/epoch - 305ms/step\n",
            "Epoch 14/20\n",
            "782/782 - 244s - loss: 2.3027 - accuracy: 0.0995 - 244s/epoch - 312ms/step\n",
            "Epoch 15/20\n",
            "782/782 - 246s - loss: 2.3027 - accuracy: 0.0978 - 246s/epoch - 315ms/step\n",
            "Epoch 16/20\n",
            "782/782 - 242s - loss: 2.3027 - accuracy: 0.0975 - 242s/epoch - 310ms/step\n",
            "Epoch 17/20\n",
            "782/782 - 243s - loss: 2.3027 - accuracy: 0.0977 - 243s/epoch - 310ms/step\n",
            "Epoch 18/20\n",
            "782/782 - 238s - loss: 2.3027 - accuracy: 0.0988 - 238s/epoch - 304ms/step\n",
            "Epoch 19/20\n",
            "782/782 - 235s - loss: 2.3027 - accuracy: 0.0993 - 235s/epoch - 300ms/step\n",
            "Epoch 20/20\n",
            "782/782 - 234s - loss: 2.3027 - accuracy: 0.0971 - 234s/epoch - 299ms/step\n",
            "313/313 - 13s - loss: 2.3026 - accuracy: 0.1000 - 13s/epoch - 42ms/step\n"
          ]
        },
        {
          "data": {
            "text/plain": [
              "[2.3025894165039062, 0.10000000149011612]"
            ]
          },
          "execution_count": 30,
          "metadata": {},
          "output_type": "execute_result"
        }
      ],
      "source": [
        "model.fit(x_train,y_train,batch_size=64,epochs=20,verbose=2)\n",
        "model.evaluate(x_test,y_test,verbose=2)"
      ]
    },
    {
      "cell_type": "code",
      "execution_count": null,
      "metadata": {
        "id": "WdWp7bhLCODT"
      },
      "outputs": [],
      "source": []
    }
  ],
  "metadata": {
    "colab": {
      "provenance": [],
      "authorship_tag": "ABX9TyN6b1q2Spwjs3Fw5M06LMAI",
      "include_colab_link": true
    },
    "kernelspec": {
      "display_name": "Python 3",
      "name": "python3"
    },
    "language_info": {
      "name": "python"
    }
  },
  "nbformat": 4,
  "nbformat_minor": 0
}